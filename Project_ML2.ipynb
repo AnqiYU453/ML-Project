{
  "cells": [
    {
      "cell_type": "code",
      "source": [
        "from google.colab import drive\n",
        "drive.mount('/content/drive')"
      ],
      "metadata": {
        "colab": {
          "base_uri": "https://localhost:8080/"
        },
        "id": "bvkZRk-H0p2M",
        "outputId": "f77954a6-19f5-41ee-a5a2-0009efefe61b"
      },
      "id": "bvkZRk-H0p2M",
      "execution_count": 66,
      "outputs": [
        {
          "output_type": "stream",
          "name": "stdout",
          "text": [
            "Drive already mounted at /content/drive; to attempt to forcibly remount, call drive.mount(\"/content/drive\", force_remount=True).\n"
          ]
        }
      ]
    },
    {
      "cell_type": "markdown",
      "source": [
        "# New Section"
      ],
      "metadata": {
        "id": "DJFYTgSJ1vef"
      },
      "id": "DJFYTgSJ1vef"
    },
    {
      "cell_type": "code",
      "source": [
        "import pandas as pd\n",
        "import numpy as np\n",
        "import matplotlib.pyplot as plt"
      ],
      "metadata": {
        "id": "IuF8QSMv0p9E"
      },
      "id": "IuF8QSMv0p9E",
      "execution_count": 90,
      "outputs": []
    },
    {
      "cell_type": "code",
      "source": [
        "file = pd.read_csv(\"heart_failure_clinical_records_dataset.csv\")"
      ],
      "metadata": {
        "id": "JzqQuL7i3Sk9"
      },
      "id": "JzqQuL7i3Sk9",
      "execution_count": 91,
      "outputs": []
    },
    {
      "cell_type": "code",
      "source": [
        "file.head(5)"
      ],
      "metadata": {
        "colab": {
          "base_uri": "https://localhost:8080/",
          "height": 206
        },
        "id": "Gm0fELyu3cnn",
        "outputId": "7a463d35-6531-4fad-de56-f17631327ddf"
      },
      "id": "Gm0fELyu3cnn",
      "execution_count": 92,
      "outputs": [
        {
          "output_type": "execute_result",
          "data": {
            "text/html": [
              "\n",
              "  <div id=\"df-2ee4203c-6a02-4be2-8d5e-96bd47c18aea\">\n",
              "    <div class=\"colab-df-container\">\n",
              "      <div>\n",
              "<style scoped>\n",
              "    .dataframe tbody tr th:only-of-type {\n",
              "        vertical-align: middle;\n",
              "    }\n",
              "\n",
              "    .dataframe tbody tr th {\n",
              "        vertical-align: top;\n",
              "    }\n",
              "\n",
              "    .dataframe thead th {\n",
              "        text-align: right;\n",
              "    }\n",
              "</style>\n",
              "<table border=\"1\" class=\"dataframe\">\n",
              "  <thead>\n",
              "    <tr style=\"text-align: right;\">\n",
              "      <th></th>\n",
              "      <th>age</th>\n",
              "      <th>anaemia</th>\n",
              "      <th>creatinine_phosphokinase</th>\n",
              "      <th>diabetes</th>\n",
              "      <th>ejection_fraction</th>\n",
              "      <th>high_blood_pressure</th>\n",
              "      <th>platelets</th>\n",
              "      <th>serum_creatinine</th>\n",
              "      <th>serum_sodium</th>\n",
              "      <th>sex</th>\n",
              "      <th>smoking</th>\n",
              "      <th>time</th>\n",
              "      <th>DEATH_EVENT</th>\n",
              "    </tr>\n",
              "  </thead>\n",
              "  <tbody>\n",
              "    <tr>\n",
              "      <th>0</th>\n",
              "      <td>75.0</td>\n",
              "      <td>0</td>\n",
              "      <td>582</td>\n",
              "      <td>0</td>\n",
              "      <td>20</td>\n",
              "      <td>1</td>\n",
              "      <td>265000.00</td>\n",
              "      <td>1.9</td>\n",
              "      <td>130</td>\n",
              "      <td>1</td>\n",
              "      <td>0</td>\n",
              "      <td>4</td>\n",
              "      <td>1</td>\n",
              "    </tr>\n",
              "    <tr>\n",
              "      <th>1</th>\n",
              "      <td>55.0</td>\n",
              "      <td>0</td>\n",
              "      <td>7861</td>\n",
              "      <td>0</td>\n",
              "      <td>38</td>\n",
              "      <td>0</td>\n",
              "      <td>263358.03</td>\n",
              "      <td>1.1</td>\n",
              "      <td>136</td>\n",
              "      <td>1</td>\n",
              "      <td>0</td>\n",
              "      <td>6</td>\n",
              "      <td>1</td>\n",
              "    </tr>\n",
              "    <tr>\n",
              "      <th>2</th>\n",
              "      <td>65.0</td>\n",
              "      <td>0</td>\n",
              "      <td>146</td>\n",
              "      <td>0</td>\n",
              "      <td>20</td>\n",
              "      <td>0</td>\n",
              "      <td>162000.00</td>\n",
              "      <td>1.3</td>\n",
              "      <td>129</td>\n",
              "      <td>1</td>\n",
              "      <td>1</td>\n",
              "      <td>7</td>\n",
              "      <td>1</td>\n",
              "    </tr>\n",
              "    <tr>\n",
              "      <th>3</th>\n",
              "      <td>50.0</td>\n",
              "      <td>1</td>\n",
              "      <td>111</td>\n",
              "      <td>0</td>\n",
              "      <td>20</td>\n",
              "      <td>0</td>\n",
              "      <td>210000.00</td>\n",
              "      <td>1.9</td>\n",
              "      <td>137</td>\n",
              "      <td>1</td>\n",
              "      <td>0</td>\n",
              "      <td>7</td>\n",
              "      <td>1</td>\n",
              "    </tr>\n",
              "    <tr>\n",
              "      <th>4</th>\n",
              "      <td>65.0</td>\n",
              "      <td>1</td>\n",
              "      <td>160</td>\n",
              "      <td>1</td>\n",
              "      <td>20</td>\n",
              "      <td>0</td>\n",
              "      <td>327000.00</td>\n",
              "      <td>2.7</td>\n",
              "      <td>116</td>\n",
              "      <td>0</td>\n",
              "      <td>0</td>\n",
              "      <td>8</td>\n",
              "      <td>1</td>\n",
              "    </tr>\n",
              "  </tbody>\n",
              "</table>\n",
              "</div>\n",
              "      <button class=\"colab-df-convert\" onclick=\"convertToInteractive('df-2ee4203c-6a02-4be2-8d5e-96bd47c18aea')\"\n",
              "              title=\"Convert this dataframe to an interactive table.\"\n",
              "              style=\"display:none;\">\n",
              "        \n",
              "  <svg xmlns=\"http://www.w3.org/2000/svg\" height=\"24px\"viewBox=\"0 0 24 24\"\n",
              "       width=\"24px\">\n",
              "    <path d=\"M0 0h24v24H0V0z\" fill=\"none\"/>\n",
              "    <path d=\"M18.56 5.44l.94 2.06.94-2.06 2.06-.94-2.06-.94-.94-2.06-.94 2.06-2.06.94zm-11 1L8.5 8.5l.94-2.06 2.06-.94-2.06-.94L8.5 2.5l-.94 2.06-2.06.94zm10 10l.94 2.06.94-2.06 2.06-.94-2.06-.94-.94-2.06-.94 2.06-2.06.94z\"/><path d=\"M17.41 7.96l-1.37-1.37c-.4-.4-.92-.59-1.43-.59-.52 0-1.04.2-1.43.59L10.3 9.45l-7.72 7.72c-.78.78-.78 2.05 0 2.83L4 21.41c.39.39.9.59 1.41.59.51 0 1.02-.2 1.41-.59l7.78-7.78 2.81-2.81c.8-.78.8-2.07 0-2.86zM5.41 20L4 18.59l7.72-7.72 1.47 1.35L5.41 20z\"/>\n",
              "  </svg>\n",
              "      </button>\n",
              "      \n",
              "  <style>\n",
              "    .colab-df-container {\n",
              "      display:flex;\n",
              "      flex-wrap:wrap;\n",
              "      gap: 12px;\n",
              "    }\n",
              "\n",
              "    .colab-df-convert {\n",
              "      background-color: #E8F0FE;\n",
              "      border: none;\n",
              "      border-radius: 50%;\n",
              "      cursor: pointer;\n",
              "      display: none;\n",
              "      fill: #1967D2;\n",
              "      height: 32px;\n",
              "      padding: 0 0 0 0;\n",
              "      width: 32px;\n",
              "    }\n",
              "\n",
              "    .colab-df-convert:hover {\n",
              "      background-color: #E2EBFA;\n",
              "      box-shadow: 0px 1px 2px rgba(60, 64, 67, 0.3), 0px 1px 3px 1px rgba(60, 64, 67, 0.15);\n",
              "      fill: #174EA6;\n",
              "    }\n",
              "\n",
              "    [theme=dark] .colab-df-convert {\n",
              "      background-color: #3B4455;\n",
              "      fill: #D2E3FC;\n",
              "    }\n",
              "\n",
              "    [theme=dark] .colab-df-convert:hover {\n",
              "      background-color: #434B5C;\n",
              "      box-shadow: 0px 1px 3px 1px rgba(0, 0, 0, 0.15);\n",
              "      filter: drop-shadow(0px 1px 2px rgba(0, 0, 0, 0.3));\n",
              "      fill: #FFFFFF;\n",
              "    }\n",
              "  </style>\n",
              "\n",
              "      <script>\n",
              "        const buttonEl =\n",
              "          document.querySelector('#df-2ee4203c-6a02-4be2-8d5e-96bd47c18aea button.colab-df-convert');\n",
              "        buttonEl.style.display =\n",
              "          google.colab.kernel.accessAllowed ? 'block' : 'none';\n",
              "\n",
              "        async function convertToInteractive(key) {\n",
              "          const element = document.querySelector('#df-2ee4203c-6a02-4be2-8d5e-96bd47c18aea');\n",
              "          const dataTable =\n",
              "            await google.colab.kernel.invokeFunction('convertToInteractive',\n",
              "                                                     [key], {});\n",
              "          if (!dataTable) return;\n",
              "\n",
              "          const docLinkHtml = 'Like what you see? Visit the ' +\n",
              "            '<a target=\"_blank\" href=https://colab.research.google.com/notebooks/data_table.ipynb>data table notebook</a>'\n",
              "            + ' to learn more about interactive tables.';\n",
              "          element.innerHTML = '';\n",
              "          dataTable['output_type'] = 'display_data';\n",
              "          await google.colab.output.renderOutput(dataTable, element);\n",
              "          const docLink = document.createElement('div');\n",
              "          docLink.innerHTML = docLinkHtml;\n",
              "          element.appendChild(docLink);\n",
              "        }\n",
              "      </script>\n",
              "    </div>\n",
              "  </div>\n",
              "  "
            ],
            "text/plain": [
              "    age  anaemia  creatinine_phosphokinase  ...  smoking  time  DEATH_EVENT\n",
              "0  75.0        0                       582  ...        0     4            1\n",
              "1  55.0        0                      7861  ...        0     6            1\n",
              "2  65.0        0                       146  ...        1     7            1\n",
              "3  50.0        1                       111  ...        0     7            1\n",
              "4  65.0        1                       160  ...        0     8            1\n",
              "\n",
              "[5 rows x 13 columns]"
            ]
          },
          "metadata": {},
          "execution_count": 92
        }
      ]
    },
    {
      "cell_type": "code",
      "source": [
        "file.corr()[\"DEATH_EVENT\"]"
      ],
      "metadata": {
        "colab": {
          "base_uri": "https://localhost:8080/"
        },
        "id": "5PZ6jef845as",
        "outputId": "7ae6e263-7d58-4196-d5a3-d7dadd54721b"
      },
      "id": "5PZ6jef845as",
      "execution_count": 93,
      "outputs": [
        {
          "output_type": "execute_result",
          "data": {
            "text/plain": [
              "age                         0.253729\n",
              "anaemia                     0.066270\n",
              "creatinine_phosphokinase    0.062728\n",
              "diabetes                   -0.001943\n",
              "ejection_fraction          -0.268603\n",
              "high_blood_pressure         0.079351\n",
              "platelets                  -0.049139\n",
              "serum_creatinine            0.294278\n",
              "serum_sodium               -0.195204\n",
              "sex                        -0.004316\n",
              "smoking                    -0.012623\n",
              "time                       -0.526964\n",
              "DEATH_EVENT                 1.000000\n",
              "Name: DEATH_EVENT, dtype: float64"
            ]
          },
          "metadata": {},
          "execution_count": 93
        }
      ]
    },
    {
      "cell_type": "code",
      "source": [
        "#corelative features: age, ejection_fraction, serum_creatinine, serum_sodium, time"
      ],
      "metadata": {
        "id": "tdUGbdB947GV"
      },
      "id": "tdUGbdB947GV",
      "execution_count": 94,
      "outputs": []
    },
    {
      "cell_type": "code",
      "source": [
        "# Actually, the data is inspected in \"project1\" notebook. "
      ],
      "metadata": {
        "id": "pV8xFYFX4clr"
      },
      "id": "pV8xFYFX4clr",
      "execution_count": 95,
      "outputs": []
    },
    {
      "cell_type": "code",
      "source": [
        "X = file[['age', 'ejection_fraction', 'serum_creatinine', 'serum_sodium']]\n",
        "y = file['DEATH_EVENT']\n",
        "X.shape, y.shape  \n",
        "# define the input and output"
      ],
      "metadata": {
        "colab": {
          "base_uri": "https://localhost:8080/"
        },
        "id": "tc3UfTKS6Xge",
        "outputId": "4bff87c0-c304-4f03-a152-a5adc6efa29e"
      },
      "id": "tc3UfTKS6Xge",
      "execution_count": 96,
      "outputs": [
        {
          "output_type": "execute_result",
          "data": {
            "text/plain": [
              "((299, 4), (299,))"
            ]
          },
          "metadata": {},
          "execution_count": 96
        }
      ]
    },
    {
      "cell_type": "code",
      "source": [
        "import tensorflow as tf\n",
        "import tensorflow.keras as keras\n",
        "import numpy as np   \n",
        "import matplotlib.pyplot as plt \n",
        "import seaborn as sns\n",
        "\n",
        "np.random.seed(87)\n",
        "tf.random.set_seed(87)"
      ],
      "metadata": {
        "id": "m5LvGINSpfop"
      },
      "id": "m5LvGINSpfop",
      "execution_count": 97,
      "outputs": []
    },
    {
      "cell_type": "code",
      "source": [
        "from sklearn.model_selection import train_test_split"
      ],
      "metadata": {
        "id": "ygbfoMRW6IQx"
      },
      "id": "ygbfoMRW6IQx",
      "execution_count": 98,
      "outputs": []
    },
    {
      "cell_type": "code",
      "source": [
        "X_train, X_test, y_train, y_test = train_test_split(X, y, shuffle=True, random_state = 87, test_size = 0.2, stratify=y)\n",
        "X_train.shape, X_test.shape, y_train.shape, y_test.shape"
      ],
      "metadata": {
        "colab": {
          "base_uri": "https://localhost:8080/"
        },
        "id": "M4H61S826T7d",
        "outputId": "1153940e-3471-4d56-baca-2fd72aa53595"
      },
      "id": "M4H61S826T7d",
      "execution_count": 99,
      "outputs": [
        {
          "output_type": "execute_result",
          "data": {
            "text/plain": [
              "((239, 4), (60, 4), (239,), (60,))"
            ]
          },
          "metadata": {},
          "execution_count": 99
        }
      ]
    },
    {
      "cell_type": "code",
      "source": [
        "X_train, X_val, y_train, y_val = train_test_split(X_train, y_train, shuffle=True, random_state=87, test_size=0.1)\n",
        "X_train.shape, X_val.shape, y_train.shape, y_val.shape"
      ],
      "metadata": {
        "colab": {
          "base_uri": "https://localhost:8080/"
        },
        "id": "quWTXp4X-MQG",
        "outputId": "cb8f0835-be3a-4a35-8185-003725e7d85b"
      },
      "id": "quWTXp4X-MQG",
      "execution_count": 100,
      "outputs": [
        {
          "output_type": "execute_result",
          "data": {
            "text/plain": [
              "((215, 4), (24, 4), (215,), (24,))"
            ]
          },
          "metadata": {},
          "execution_count": 100
        }
      ]
    },
    {
      "cell_type": "code",
      "source": [
        "X_train = np.float32(X_train)\n",
        "X_val = np.float32(X_val)\n",
        "X_test = np.float32(X_test)\n",
        "y_train = np.float32(y_train)\n",
        "y_val = np.float32(y_val)\n",
        "y_test = np.float32(y_test)"
      ],
      "metadata": {
        "id": "X6wTmm1DpcVV"
      },
      "id": "X6wTmm1DpcVV",
      "execution_count": 101,
      "outputs": []
    },
    {
      "cell_type": "markdown",
      "source": [
        "## CNN"
      ],
      "metadata": {
        "id": "XFMP0DpnkNtg"
      },
      "id": "XFMP0DpnkNtg"
    },
    {
      "cell_type": "code",
      "source": [
        "import tensorflow  as tf\n",
        "import tensorflow.keras as keras\n",
        "from tensorflow.keras.utils import to_categorical\n",
        "import numpy as np\n",
        "import matplotlib.pyplot as plt\n"
      ],
      "metadata": {
        "id": "RiTXI9GMkbzH"
      },
      "id": "RiTXI9GMkbzH",
      "execution_count": 102,
      "outputs": []
    },
    {
      "cell_type": "code",
      "source": [
        "model = keras.models.Sequential()\n",
        "model.add(keras.layers.Conv1D(30, (3,), activation='relu',input_shape=(4,1)))\n",
        "model.add(keras.layers.MaxPooling1D((2,)))\n",
        "\n",
        "model.add(keras.layers.Flatten())\n",
        "model.add(keras.layers.Dropout(0.5)) \n",
        "model.add(keras.layers.Dense(500, activation='relu')) \n",
        "model.add(keras.layers.Dense(1, activation='sigmoid'))\n",
        "model.compile(optimizer=keras.optimizers.Adam(learning_rate=1e-4),loss=\"binary_crossentropy\", metrics=['accuracy'])\n",
        "num_epochs = 20\n",
        "history = model.fit(x=X_train, y=y_train, validation_data=(X_val,y_val), epochs=num_epochs)"
      ],
      "metadata": {
        "colab": {
          "base_uri": "https://localhost:8080/"
        },
        "id": "C1ITOEP4lLcK",
        "outputId": "d9a041b2-f27a-4055-c078-9db5ae6f5dc1"
      },
      "id": "C1ITOEP4lLcK",
      "execution_count": 121,
      "outputs": [
        {
          "output_type": "stream",
          "name": "stdout",
          "text": [
            "Epoch 1/20\n",
            "7/7 [==============================] - 1s 28ms/step - loss: 2.3794 - accuracy: 0.4977 - val_loss: 0.7254 - val_accuracy: 0.7083\n",
            "Epoch 2/20\n",
            "7/7 [==============================] - 0s 6ms/step - loss: 1.9432 - accuracy: 0.6000 - val_loss: 0.7908 - val_accuracy: 0.7083\n",
            "Epoch 3/20\n",
            "7/7 [==============================] - 0s 5ms/step - loss: 1.9083 - accuracy: 0.5721 - val_loss: 0.8678 - val_accuracy: 0.7083\n",
            "Epoch 4/20\n",
            "7/7 [==============================] - 0s 6ms/step - loss: 1.6544 - accuracy: 0.5488 - val_loss: 0.7696 - val_accuracy: 0.7083\n",
            "Epoch 5/20\n",
            "7/7 [==============================] - 0s 8ms/step - loss: 1.4490 - accuracy: 0.6047 - val_loss: 0.6235 - val_accuracy: 0.7083\n",
            "Epoch 6/20\n",
            "7/7 [==============================] - 0s 5ms/step - loss: 1.3569 - accuracy: 0.5953 - val_loss: 0.6297 - val_accuracy: 0.7500\n",
            "Epoch 7/20\n",
            "7/7 [==============================] - 0s 7ms/step - loss: 1.2606 - accuracy: 0.5116 - val_loss: 0.5874 - val_accuracy: 0.7083\n",
            "Epoch 8/20\n",
            "7/7 [==============================] - 0s 5ms/step - loss: 1.0346 - accuracy: 0.6465 - val_loss: 0.5798 - val_accuracy: 0.7083\n",
            "Epoch 9/20\n",
            "7/7 [==============================] - 0s 6ms/step - loss: 1.0574 - accuracy: 0.6372 - val_loss: 0.5682 - val_accuracy: 0.7083\n",
            "Epoch 10/20\n",
            "7/7 [==============================] - 0s 8ms/step - loss: 0.9383 - accuracy: 0.5953 - val_loss: 0.6158 - val_accuracy: 0.7917\n",
            "Epoch 11/20\n",
            "7/7 [==============================] - 0s 6ms/step - loss: 0.9434 - accuracy: 0.5814 - val_loss: 0.5635 - val_accuracy: 0.7500\n",
            "Epoch 12/20\n",
            "7/7 [==============================] - 0s 7ms/step - loss: 0.8694 - accuracy: 0.5907 - val_loss: 0.5743 - val_accuracy: 0.8333\n",
            "Epoch 13/20\n",
            "7/7 [==============================] - 0s 6ms/step - loss: 0.8938 - accuracy: 0.5814 - val_loss: 0.5438 - val_accuracy: 0.8333\n",
            "Epoch 14/20\n",
            "7/7 [==============================] - 0s 6ms/step - loss: 0.7496 - accuracy: 0.6186 - val_loss: 0.5624 - val_accuracy: 0.7917\n",
            "Epoch 15/20\n",
            "7/7 [==============================] - 0s 6ms/step - loss: 0.7457 - accuracy: 0.6512 - val_loss: 0.5456 - val_accuracy: 0.8333\n",
            "Epoch 16/20\n",
            "7/7 [==============================] - 0s 5ms/step - loss: 0.8702 - accuracy: 0.6233 - val_loss: 0.5483 - val_accuracy: 0.8333\n",
            "Epoch 17/20\n",
            "7/7 [==============================] - 0s 5ms/step - loss: 0.7200 - accuracy: 0.6419 - val_loss: 0.6696 - val_accuracy: 0.4167\n",
            "Epoch 18/20\n",
            "7/7 [==============================] - 0s 5ms/step - loss: 0.8724 - accuracy: 0.5767 - val_loss: 0.5634 - val_accuracy: 0.7917\n",
            "Epoch 19/20\n",
            "7/7 [==============================] - 0s 5ms/step - loss: 0.7344 - accuracy: 0.6512 - val_loss: 0.5476 - val_accuracy: 0.8333\n",
            "Epoch 20/20\n",
            "7/7 [==============================] - 0s 5ms/step - loss: 0.6717 - accuracy: 0.6930 - val_loss: 0.5387 - val_accuracy: 0.8333\n"
          ]
        }
      ]
    },
    {
      "cell_type": "code",
      "source": [
        "plt.plot(history.history['val_loss'], 'grey', label='val')\n",
        "plt.plot(history.history['loss'],'purple', label='train')\n",
        "plt.title('Loss Curve')\n",
        "plt.xlabel('Epochs')\n",
        "plt.ylabel('Loss')\n",
        "plt.legend()\n",
        "plt.show()"
      ],
      "metadata": {
        "colab": {
          "base_uri": "https://localhost:8080/",
          "height": 295
        },
        "id": "-j66Tt6plL6B",
        "outputId": "b7a40dc8-37ac-4027-9423-1c391e0f7d7d"
      },
      "id": "-j66Tt6plL6B",
      "execution_count": 122,
      "outputs": [
        {
          "output_type": "display_data",
          "data": {
            "image/png": "[encoded data removed]",
            "text/plain": [
              "<Figure size 432x288 with 1 Axes>"
            ]
          },
          "metadata": {
            "needs_background": "light"
          }
        }
      ]
    },
    {
      "cell_type": "code",
      "source": [
        "plt.plot(history.history['val_accuracy'],'grey', label='val')\n",
        "plt.plot(history.history['accuracy'], 'purple', label='train')\n",
        "plt.title('Accuracy Curve')\n",
        "plt.xlabel('Epochs')\n",
        "plt.ylabel('Accuracy')\n",
        "plt.legend()\n",
        "plt.show()"
      ],
      "metadata": {
        "colab": {
          "base_uri": "https://localhost:8080/",
          "height": 295
        },
        "id": "i_SEN0DMsgBO",
        "outputId": "50692729-95ef-42d1-c98c-e9e0fdf1f65a"
      },
      "id": "i_SEN0DMsgBO",
      "execution_count": 123,
      "outputs": [
        {
          "output_type": "display_data",
          "data": {
            "image/png": "[encoded data removed]",
            "text/plain": [
              "<Figure size 432x288 with 1 Axes>"
            ]
          },
          "metadata": {
            "needs_background": "light"
          }
        }
      ]
    },
    {
      "cell_type": "code",
      "source": [
        "y_pred = model.predict(X_test)\n",
        "print(y_pred.shape)\n",
        "y_pred[: 5]"
      ],
      "metadata": {
        "colab": {
          "base_uri": "https://localhost:8080/"
        },
        "id": "8IuBXUY-s-77",
        "outputId": "8a305aad-dd00-4946-b97e-75efd305d9f8"
      },
      "id": "8IuBXUY-s-77",
      "execution_count": 130,
      "outputs": [
        {
          "output_type": "stream",
          "name": "stdout",
          "text": [
            "(60, 1)\n"
          ]
        },
        {
          "output_type": "execute_result",
          "data": {
            "text/plain": [
              "array([[0.15174565],\n",
              "       [0.61132777],\n",
              "       [0.29509348],\n",
              "       [0.203323  ],\n",
              "       [0.46347716]], dtype=float32)"
            ]
          },
          "metadata": {},
          "execution_count": 130
        }
      ]
    },
    {
      "cell_type": "code",
      "source": [
        "threshold = 0.5\n",
        "y_pred = [int(item>threshold) for  item in y_pred]"
      ],
      "metadata": {
        "id": "EUS9HatgxD6D"
      },
      "id": "EUS9HatgxD6D",
      "execution_count": 125,
      "outputs": []
    },
    {
      "cell_type": "code",
      "source": [
        "from sklearn.metrics import accuracy_score, f1_score, classification_report"
      ],
      "metadata": {
        "id": "918UrjnkvOH6"
      },
      "id": "918UrjnkvOH6",
      "execution_count": 126,
      "outputs": []
    },
    {
      "cell_type": "code",
      "source": [
        "print(accuracy_score(y_pred, y_test))"
      ],
      "metadata": {
        "colab": {
          "base_uri": "https://localhost:8080/"
        },
        "id": "f5h31IHQvaNl",
        "outputId": "d5fb2521-3439-42c5-8e27-20e005255b34"
      },
      "id": "f5h31IHQvaNl",
      "execution_count": 127,
      "outputs": [
        {
          "output_type": "stream",
          "name": "stdout",
          "text": [
            "0.7333333333333333\n"
          ]
        }
      ]
    },
    {
      "cell_type": "code",
      "source": [
        "print(f1_score(y_pred, y_test))"
      ],
      "metadata": {
        "colab": {
          "base_uri": "https://localhost:8080/"
        },
        "id": "1kWyhHFMxf9G",
        "outputId": "6b13f954-851a-45d6-c5e3-c681cc3cf2ad"
      },
      "id": "1kWyhHFMxf9G",
      "execution_count": 128,
      "outputs": [
        {
          "output_type": "stream",
          "name": "stdout",
          "text": [
            "0.6\n"
          ]
        }
      ]
    },
    {
      "cell_type": "code",
      "source": [
        "print(classification_report(y_pred, y_test))"
      ],
      "metadata": {
        "colab": {
          "base_uri": "https://localhost:8080/"
        },
        "id": "ANscSTPqvU2z",
        "outputId": "6a1fe8ab-a623-43fc-8991-71f8f60cdebc"
      },
      "id": "ANscSTPqvU2z",
      "execution_count": 129,
      "outputs": [
        {
          "output_type": "stream",
          "name": "stdout",
          "text": [
            "              precision    recall  f1-score   support\n",
            "\n",
            "           0       0.78      0.82      0.80        39\n",
            "           1       0.63      0.57      0.60        21\n",
            "\n",
            "    accuracy                           0.73        60\n",
            "   macro avg       0.71      0.70      0.70        60\n",
            "weighted avg       0.73      0.73      0.73        60\n",
            "\n"
          ]
        }
      ]
    },
    {
      "cell_type": "markdown",
      "source": [
        "## RNN"
      ],
      "metadata": {
        "id": "Pqkp0i1AlndT"
      },
      "id": "Pqkp0i1AlndT"
    },
    {
      "cell_type": "markdown",
      "source": [
        "RNN with Adam"
      ],
      "metadata": {
        "id": "7ZDupY-y2MaG"
      },
      "id": "7ZDupY-y2MaG"
    },
    {
      "cell_type": "code",
      "source": [
        "import tensorflow as tf\n",
        "import tensorflow.keras as keras\n",
        "import numpy as np   \n",
        "import matplotlib.pyplot as plt \n",
        "import seaborn as sns\n",
        "\n",
        "np.random.seed(87)\n",
        "tf.random.set_seed(87)"
      ],
      "metadata": {
        "id": "8SakQmI1lpoS"
      },
      "id": "8SakQmI1lpoS",
      "execution_count": 131,
      "outputs": []
    },
    {
      "cell_type": "code",
      "source": [
        "from sklearn.model_selection import train_test_split\n",
        "X_train, X_test, y_train, y_test = train_test_split(X, y, shuffle=True, random_state = 87, test_size = 0.2, stratify=y)\n",
        "X_train.shape, X_test.shape, y_train.shape, y_test.shape"
      ],
      "metadata": {
        "colab": {
          "base_uri": "https://localhost:8080/"
        },
        "id": "c5ikg5r2zUSv",
        "outputId": "3f641f44-1c17-4d14-a5dc-59197267c9e8"
      },
      "id": "c5ikg5r2zUSv",
      "execution_count": 132,
      "outputs": [
        {
          "output_type": "execute_result",
          "data": {
            "text/plain": [
              "((239, 4), (60, 4), (239,), (60,))"
            ]
          },
          "metadata": {},
          "execution_count": 132
        }
      ]
    },
    {
      "cell_type": "code",
      "source": [
        "X_train, X_val, y_train, y_val = train_test_split(X_train, y_train, shuffle=True, random_state=87, test_size=0.1)\n",
        "X_train.shape, X_val.shape, y_train.shape, y_val.shape"
      ],
      "metadata": {
        "colab": {
          "base_uri": "https://localhost:8080/"
        },
        "id": "I2RYsYNdzbk8",
        "outputId": "e9417efa-9f75-4103-b783-9773383ad3c7"
      },
      "id": "I2RYsYNdzbk8",
      "execution_count": 133,
      "outputs": [
        {
          "output_type": "execute_result",
          "data": {
            "text/plain": [
              "((215, 4), (24, 4), (215,), (24,))"
            ]
          },
          "metadata": {},
          "execution_count": 133
        }
      ]
    },
    {
      "cell_type": "code",
      "source": [
        "X_train = np.float32(X_train)\n",
        "X_val = np.float32(X_val)\n",
        "X_test = np.float32(X_test)\n",
        "y_train = np.float32(y_train)\n",
        "y_val = np.float32(y_val)\n",
        "y_test = np.float32(y_test)"
      ],
      "metadata": {
        "id": "cAw5m7jBzgIB"
      },
      "id": "cAw5m7jBzgIB",
      "execution_count": 134,
      "outputs": []
    },
    {
      "cell_type": "code",
      "source": [
        "model = keras.models.Sequential()\n",
        "model.add(keras.layers.SimpleRNN(200, input_shape=(4,1))) \n",
        "model.add(keras.layers.Dense(1, activation='sigmoid', name='affine'))\n",
        "model.summary()"
      ],
      "metadata": {
        "colab": {
          "base_uri": "https://localhost:8080/"
        },
        "id": "gHDt_10vlL_6",
        "outputId": "1000c377-a72f-426c-b244-2c1d40de7e0f"
      },
      "id": "gHDt_10vlL_6",
      "execution_count": 135,
      "outputs": [
        {
          "output_type": "stream",
          "name": "stdout",
          "text": [
            "Model: \"sequential_9\"\n",
            "_________________________________________________________________\n",
            " Layer (type)                Output Shape              Param #   \n",
            "=================================================================\n",
            " simple_rnn_1 (SimpleRNN)    (None, 200)               40400     \n",
            "                                                                 \n",
            " affine (Dense)              (None, 1)                 201       \n",
            "                                                                 \n",
            "=================================================================\n",
            "Total params: 40,601\n",
            "Trainable params: 40,601\n",
            "Non-trainable params: 0\n",
            "_________________________________________________________________\n"
          ]
        }
      ]
    },
    {
      "cell_type": "code",
      "source": [
        "early_stopping = tf.keras.callbacks.EarlyStopping(patience=5, restore_best_weights=True)\n",
        "optimizer = keras.optimizers.Adam(lr=0.001)\n",
        "model.compile(optimizer=optimizer,loss='binary_crossentropy', metrics=['accuracy'])\n",
        "num_epochs = 20\n",
        "history = model.fit(X_train, y_train, epochs=num_epochs, validation_data=(X_val, y_val), callbacks=[early_stopping] )"
      ],
      "metadata": {
        "colab": {
          "base_uri": "https://localhost:8080/"
        },
        "id": "T5kH4c2amac4",
        "outputId": "f45da024-7540-4b52-80e9-da4a4148930c"
      },
      "id": "T5kH4c2amac4",
      "execution_count": 136,
      "outputs": [
        {
          "output_type": "stream",
          "name": "stderr",
          "text": [
            "/usr/local/lib/python3.7/dist-packages/keras/optimizer_v2/adam.py:105: UserWarning: The `lr` argument is deprecated, use `learning_rate` instead.\n",
            "  super(Adam, self).__init__(name, **kwargs)\n"
          ]
        },
        {
          "output_type": "stream",
          "name": "stdout",
          "text": [
            "Epoch 1/20\n",
            "7/7 [==============================] - 1s 39ms/step - loss: 0.7884 - accuracy: 0.5535 - val_loss: 0.6031 - val_accuracy: 0.7083\n",
            "Epoch 2/20\n",
            "7/7 [==============================] - 0s 7ms/step - loss: 0.6496 - accuracy: 0.6744 - val_loss: 0.6033 - val_accuracy: 0.7083\n",
            "Epoch 3/20\n",
            "7/7 [==============================] - 0s 7ms/step - loss: 0.6286 - accuracy: 0.6744 - val_loss: 0.5941 - val_accuracy: 0.7083\n",
            "Epoch 4/20\n",
            "7/7 [==============================] - 0s 7ms/step - loss: 0.6196 - accuracy: 0.6744 - val_loss: 0.5934 - val_accuracy: 0.7083\n",
            "Epoch 5/20\n",
            "7/7 [==============================] - 0s 8ms/step - loss: 0.6175 - accuracy: 0.6744 - val_loss: 0.5770 - val_accuracy: 0.7083\n",
            "Epoch 6/20\n",
            "7/7 [==============================] - 0s 7ms/step - loss: 0.6055 - accuracy: 0.6744 - val_loss: 0.5570 - val_accuracy: 0.7083\n",
            "Epoch 7/20\n",
            "7/7 [==============================] - 0s 8ms/step - loss: 0.5870 - accuracy: 0.6791 - val_loss: 0.5307 - val_accuracy: 0.7083\n",
            "Epoch 8/20\n",
            "7/7 [==============================] - 0s 8ms/step - loss: 0.5818 - accuracy: 0.7488 - val_loss: 0.5136 - val_accuracy: 0.8333\n",
            "Epoch 9/20\n",
            "7/7 [==============================] - 0s 7ms/step - loss: 0.5784 - accuracy: 0.7349 - val_loss: 0.5321 - val_accuracy: 0.7500\n",
            "Epoch 10/20\n",
            "7/7 [==============================] - 0s 7ms/step - loss: 0.5650 - accuracy: 0.7442 - val_loss: 0.5113 - val_accuracy: 0.7917\n",
            "Epoch 11/20\n",
            "7/7 [==============================] - 0s 7ms/step - loss: 0.5724 - accuracy: 0.7070 - val_loss: 0.5021 - val_accuracy: 0.7500\n",
            "Epoch 12/20\n",
            "7/7 [==============================] - 0s 7ms/step - loss: 0.5490 - accuracy: 0.7209 - val_loss: 0.4909 - val_accuracy: 0.8333\n",
            "Epoch 13/20\n",
            "7/7 [==============================] - 0s 7ms/step - loss: 0.5460 - accuracy: 0.7349 - val_loss: 0.4921 - val_accuracy: 0.7500\n",
            "Epoch 14/20\n",
            "7/7 [==============================] - 0s 7ms/step - loss: 0.5456 - accuracy: 0.7256 - val_loss: 0.4783 - val_accuracy: 0.7917\n",
            "Epoch 15/20\n",
            "7/7 [==============================] - 0s 11ms/step - loss: 0.5510 - accuracy: 0.7302 - val_loss: 0.4886 - val_accuracy: 0.7917\n",
            "Epoch 16/20\n",
            "7/7 [==============================] - 0s 8ms/step - loss: 0.5322 - accuracy: 0.7442 - val_loss: 0.4834 - val_accuracy: 0.8333\n",
            "Epoch 17/20\n",
            "7/7 [==============================] - 0s 7ms/step - loss: 0.5283 - accuracy: 0.7442 - val_loss: 0.4655 - val_accuracy: 0.8333\n",
            "Epoch 18/20\n",
            "7/7 [==============================] - 0s 7ms/step - loss: 0.5342 - accuracy: 0.7209 - val_loss: 0.4786 - val_accuracy: 0.7917\n",
            "Epoch 19/20\n",
            "7/7 [==============================] - 0s 7ms/step - loss: 0.5199 - accuracy: 0.7767 - val_loss: 0.5142 - val_accuracy: 0.7500\n",
            "Epoch 20/20\n",
            "7/7 [==============================] - 0s 7ms/step - loss: 0.5546 - accuracy: 0.7581 - val_loss: 0.4799 - val_accuracy: 0.7917\n"
          ]
        }
      ]
    },
    {
      "cell_type": "code",
      "source": [
        "train_loss = history.history['loss']\n",
        "dev_loss = history.history['val_loss']\n",
        "epochs = range(1, len(dev_loss)+1)\n",
        "\n",
        "plt.plot(epochs, train_loss, 'purple', label='train')\n",
        "plt.plot(epochs, dev_loss, 'grey', label='dev')\n",
        "plt.title('Loss curves')\n",
        "plt.xlabel('Epochs')\n",
        "plt.ylabel('Binary Crossentropy')\n",
        "plt.legend()\n",
        "plt.show()"
      ],
      "metadata": {
        "colab": {
          "base_uri": "https://localhost:8080/",
          "height": 295
        },
        "id": "zca8jp__nBi1",
        "outputId": "293e7478-94ed-4527-df1e-b28e3931840b"
      },
      "id": "zca8jp__nBi1",
      "execution_count": 137,
      "outputs": [
        {
          "output_type": "display_data",
          "data": {
            "image/png": "[encoded data removed]",
            "text/plain": [
              "<Figure size 432x288 with 1 Axes>"
            ]
          },
          "metadata": {
            "needs_background": "light"
          }
        }
      ]
    },
    {
      "cell_type": "code",
      "source": [
        "train_accuracy = history.history['accuracy']\n",
        "dev_accuracy = history.history['val_accuracy']\n",
        "\n",
        "plt.plot(epochs, train_accuracy, 'purple', label='train')\n",
        "plt.plot(epochs, dev_accuracy, 'grey', label='dev')\n",
        "plt.title('Accuracy curves')\n",
        "plt.xlabel('Epochs')\n",
        "plt.ylabel('Accuracy')\n",
        "plt.legend()\n",
        "plt.show()"
      ],
      "metadata": {
        "colab": {
          "base_uri": "https://localhost:8080/",
          "height": 295
        },
        "id": "VQGcpK2Nogbc",
        "outputId": "31aeff90-b0c5-4e6d-ebc0-17395bb90ab8"
      },
      "id": "VQGcpK2Nogbc",
      "execution_count": 138,
      "outputs": [
        {
          "output_type": "display_data",
          "data": {
            "image/png": "[encoded data removed]",
            "text/plain": [
              "<Figure size 432x288 with 1 Axes>"
            ]
          },
          "metadata": {
            "needs_background": "light"
          }
        }
      ]
    },
    {
      "cell_type": "code",
      "source": [
        "y_pred = model.predict(X_test)\n",
        "print(y_pred.shape)\n",
        "y_pred[ :5]"
      ],
      "metadata": {
        "colab": {
          "base_uri": "https://localhost:8080/"
        },
        "id": "UPU2BuVl05Ym",
        "outputId": "c30ec192-fc09-4bcb-b43c-4a6d3b0a1b94"
      },
      "id": "UPU2BuVl05Ym",
      "execution_count": 140,
      "outputs": [
        {
          "output_type": "stream",
          "name": "stdout",
          "text": [
            "(60, 1)\n"
          ]
        },
        {
          "output_type": "execute_result",
          "data": {
            "text/plain": [
              "array([[0.21024406],\n",
              "       [0.72387767],\n",
              "       [0.21008441],\n",
              "       [0.20353368],\n",
              "       [0.36382768]], dtype=float32)"
            ]
          },
          "metadata": {},
          "execution_count": 140
        }
      ]
    },
    {
      "cell_type": "code",
      "source": [
        "threshold = 0.5\n",
        "y_pred = [int(item>threshold) for  item in y_pred]"
      ],
      "metadata": {
        "id": "Kda6l7A41ctv"
      },
      "id": "Kda6l7A41ctv",
      "execution_count": 142,
      "outputs": []
    },
    {
      "cell_type": "code",
      "source": [
        "from sklearn.metrics import accuracy_score, f1_score, classification_report\n",
        "print(accuracy_score(y_test, y_pred))\n"
      ],
      "metadata": {
        "colab": {
          "base_uri": "https://localhost:8080/"
        },
        "id": "rZvSHt5r1GEz",
        "outputId": "a7f862db-72f0-4449-bde9-7ae4040dc49e"
      },
      "id": "rZvSHt5r1GEz",
      "execution_count": 143,
      "outputs": [
        {
          "output_type": "stream",
          "name": "stdout",
          "text": [
            "0.7666666666666667\n"
          ]
        }
      ]
    },
    {
      "cell_type": "code",
      "source": [
        "print(f1_score(y_test, y_pred))"
      ],
      "metadata": {
        "colab": {
          "base_uri": "https://localhost:8080/"
        },
        "id": "XABFmo0f1lBX",
        "outputId": "8276a16b-65c5-4951-f274-c1f44e5b2483"
      },
      "id": "XABFmo0f1lBX",
      "execution_count": 144,
      "outputs": [
        {
          "output_type": "stream",
          "name": "stdout",
          "text": [
            "0.6111111111111113\n"
          ]
        }
      ]
    },
    {
      "cell_type": "code",
      "source": [
        "print(classification_report(y_test, y_pred))"
      ],
      "metadata": {
        "colab": {
          "base_uri": "https://localhost:8080/"
        },
        "id": "YvEOiecY1pgo",
        "outputId": "437f29d7-ea50-4244-d43f-904679d5316e"
      },
      "id": "YvEOiecY1pgo",
      "execution_count": 145,
      "outputs": [
        {
          "output_type": "stream",
          "name": "stdout",
          "text": [
            "              precision    recall  f1-score   support\n",
            "\n",
            "         0.0       0.81      0.85      0.83        41\n",
            "         1.0       0.65      0.58      0.61        19\n",
            "\n",
            "    accuracy                           0.77        60\n",
            "   macro avg       0.73      0.72      0.72        60\n",
            "weighted avg       0.76      0.77      0.76        60\n",
            "\n"
          ]
        }
      ]
    },
    {
      "cell_type": "markdown",
      "source": [
        "RNN with SGD"
      ],
      "metadata": {
        "id": "i4rQZkUO2Cln"
      },
      "id": "i4rQZkUO2Cln"
    },
    {
      "cell_type": "code",
      "source": [
        "model = keras.models.Sequential()\n",
        "model.add(keras.layers.SimpleRNN(200, input_shape=(4,1))) \n",
        "model.add(keras.layers.Dense(1, activation='sigmoid', name='affine'))\n",
        "model.summary()"
      ],
      "metadata": {
        "colab": {
          "base_uri": "https://localhost:8080/"
        },
        "id": "sRWq4wQV2H8s",
        "outputId": "c92a90ec-f044-44db-b421-ff85c5ad6342"
      },
      "id": "sRWq4wQV2H8s",
      "execution_count": 146,
      "outputs": [
        {
          "output_type": "stream",
          "name": "stdout",
          "text": [
            "Model: \"sequential_10\"\n",
            "_________________________________________________________________\n",
            " Layer (type)                Output Shape              Param #   \n",
            "=================================================================\n",
            " simple_rnn_2 (SimpleRNN)    (None, 200)               40400     \n",
            "                                                                 \n",
            " affine (Dense)              (None, 1)                 201       \n",
            "                                                                 \n",
            "=================================================================\n",
            "Total params: 40,601\n",
            "Trainable params: 40,601\n",
            "Non-trainable params: 0\n",
            "_________________________________________________________________\n"
          ]
        }
      ]
    },
    {
      "cell_type": "code",
      "source": [
        "model = keras.models.Sequential()\n",
        "model.add(keras.layers.SimpleRNN(200, input_shape=(4,1))) \n",
        "model.add(keras.layers.Dense(1, activation='sigmoid', name='affine'))\n",
        "model.summary()"
      ],
      "metadata": {
        "colab": {
          "base_uri": "https://localhost:8080/"
        },
        "id": "gKhUYUpK1tEt",
        "outputId": "1fdcdc12-51e9-403d-e06f-20f4dd069186"
      },
      "id": "gKhUYUpK1tEt",
      "execution_count": 148,
      "outputs": [
        {
          "output_type": "stream",
          "name": "stdout",
          "text": [
            "Model: \"sequential_12\"\n",
            "_________________________________________________________________\n",
            " Layer (type)                Output Shape              Param #   \n",
            "=================================================================\n",
            " simple_rnn_4 (SimpleRNN)    (None, 200)               40400     \n",
            "                                                                 \n",
            " affine (Dense)              (None, 1)                 201       \n",
            "                                                                 \n",
            "=================================================================\n",
            "Total params: 40,601\n",
            "Trainable params: 40,601\n",
            "Non-trainable params: 0\n",
            "_________________________________________________________________\n"
          ]
        }
      ]
    },
    {
      "cell_type": "code",
      "source": [
        "early_stopping = tf.keras.callbacks.EarlyStopping(patience=5, restore_best_weights=True)\n",
        "optimizer = keras.optimizers.SGD(lr=0.001)\n",
        "model.compile(optimizer=optimizer,loss='binary_crossentropy', metrics=['accuracy'])\n",
        "num_epochs = 20\n",
        "history = model.fit(X_train, y_train, epochs=num_epochs, validation_data=(X_val, y_val), callbacks=[early_stopping] )"
      ],
      "metadata": {
        "colab": {
          "base_uri": "https://localhost:8080/"
        },
        "outputId": "9d1d144c-bd78-451e-8412-d49fc046f523",
        "id": "blSuYxMa2YpS"
      },
      "execution_count": 149,
      "outputs": [
        {
          "output_type": "stream",
          "name": "stderr",
          "text": [
            "/usr/local/lib/python3.7/dist-packages/keras/optimizer_v2/gradient_descent.py:102: UserWarning: The `lr` argument is deprecated, use `learning_rate` instead.\n",
            "  super(SGD, self).__init__(name, **kwargs)\n"
          ]
        },
        {
          "output_type": "stream",
          "name": "stdout",
          "text": [
            "Epoch 1/20\n",
            "7/7 [==============================] - 1s 91ms/step - loss: 0.6777 - accuracy: 0.6000 - val_loss: 0.6131 - val_accuracy: 0.7083\n",
            "Epoch 2/20\n",
            "7/7 [==============================] - 0s 8ms/step - loss: 0.6285 - accuracy: 0.6744 - val_loss: 0.6053 - val_accuracy: 0.7083\n",
            "Epoch 3/20\n",
            "7/7 [==============================] - 0s 7ms/step - loss: 0.6294 - accuracy: 0.6744 - val_loss: 0.6038 - val_accuracy: 0.7083\n",
            "Epoch 4/20\n",
            "7/7 [==============================] - 0s 6ms/step - loss: 0.6271 - accuracy: 0.6744 - val_loss: 0.6050 - val_accuracy: 0.7083\n",
            "Epoch 5/20\n",
            "7/7 [==============================] - 0s 7ms/step - loss: 0.6270 - accuracy: 0.6744 - val_loss: 0.6044 - val_accuracy: 0.7083\n",
            "Epoch 6/20\n",
            "7/7 [==============================] - 0s 7ms/step - loss: 0.6269 - accuracy: 0.6744 - val_loss: 0.6021 - val_accuracy: 0.7083\n",
            "Epoch 7/20\n",
            "7/7 [==============================] - 0s 7ms/step - loss: 0.6255 - accuracy: 0.6744 - val_loss: 0.6038 - val_accuracy: 0.7083\n",
            "Epoch 8/20\n",
            "7/7 [==============================] - 0s 8ms/step - loss: 0.6274 - accuracy: 0.6744 - val_loss: 0.6006 - val_accuracy: 0.7083\n",
            "Epoch 9/20\n",
            "7/7 [==============================] - 0s 7ms/step - loss: 0.6255 - accuracy: 0.6744 - val_loss: 0.6013 - val_accuracy: 0.7083\n",
            "Epoch 10/20\n",
            "7/7 [==============================] - 0s 7ms/step - loss: 0.6268 - accuracy: 0.6744 - val_loss: 0.6005 - val_accuracy: 0.7083\n",
            "Epoch 11/20\n",
            "7/7 [==============================] - 0s 7ms/step - loss: 0.6242 - accuracy: 0.6744 - val_loss: 0.6020 - val_accuracy: 0.7083\n",
            "Epoch 12/20\n",
            "7/7 [==============================] - 0s 6ms/step - loss: 0.6249 - accuracy: 0.6744 - val_loss: 0.6016 - val_accuracy: 0.7083\n",
            "Epoch 13/20\n",
            "7/7 [==============================] - 0s 7ms/step - loss: 0.6247 - accuracy: 0.6744 - val_loss: 0.6018 - val_accuracy: 0.7083\n",
            "Epoch 14/20\n",
            "7/7 [==============================] - 0s 7ms/step - loss: 0.6244 - accuracy: 0.6744 - val_loss: 0.6008 - val_accuracy: 0.7083\n",
            "Epoch 15/20\n",
            "7/7 [==============================] - 0s 10ms/step - loss: 0.6249 - accuracy: 0.6744 - val_loss: 0.6022 - val_accuracy: 0.7083\n"
          ]
        }
      ],
      "id": "blSuYxMa2YpS"
    },
    {
      "cell_type": "code",
      "source": [
        "train_loss = history.history['loss']\n",
        "dev_loss = history.history['val_loss']\n",
        "epochs = range(1, len(dev_loss)+1)\n",
        "\n",
        "plt.plot(epochs, train_loss, 'purple', label='train')\n",
        "plt.plot(epochs, dev_loss, 'grey', label='dev')\n",
        "plt.title('Loss curves')\n",
        "plt.xlabel('Epochs')\n",
        "plt.ylabel('Binary Crossentropy')\n",
        "plt.legend()\n",
        "plt.show()"
      ],
      "metadata": {
        "colab": {
          "base_uri": "https://localhost:8080/",
          "height": 295
        },
        "id": "4_CDLSAJ2fwZ",
        "outputId": "b2f264ef-6f65-45cd-aa98-588698aea4c6"
      },
      "id": "4_CDLSAJ2fwZ",
      "execution_count": 150,
      "outputs": [
        {
          "output_type": "display_data",
          "data": {
            "image/png": "[encoded data removed]",
            "text/plain": [
              "<Figure size 432x288 with 1 Axes>"
            ]
          },
          "metadata": {
            "needs_background": "light"
          }
        }
      ]
    },
    {
      "cell_type": "code",
      "source": [
        "train_accuracy = history.history['accuracy']\n",
        "dev_accuracy = history.history['val_accuracy']\n",
        "\n",
        "plt.plot(epochs, train_accuracy, 'purple', label='train')\n",
        "plt.plot(epochs, dev_accuracy, 'grey', label='dev')\n",
        "plt.title('Accuracy curves')\n",
        "plt.xlabel('Epochs')\n",
        "plt.ylabel('Accuracy')\n",
        "plt.legend()\n",
        "plt.show()"
      ],
      "metadata": {
        "colab": {
          "base_uri": "https://localhost:8080/",
          "height": 295
        },
        "id": "v6FIuKWT2f6s",
        "outputId": "c1e7dabd-619d-4aff-9efb-4d734e310a33"
      },
      "id": "v6FIuKWT2f6s",
      "execution_count": 151,
      "outputs": [
        {
          "output_type": "display_data",
          "data": {
            "image/png": "[encoded data removed]",
            "text/plain": [
              "<Figure size 432x288 with 1 Axes>"
            ]
          },
          "metadata": {
            "needs_background": "light"
          }
        }
      ]
    },
    {
      "cell_type": "code",
      "source": [
        ""
      ],
      "metadata": {
        "id": "7_hVUzQP2gHd"
      },
      "id": "7_hVUzQP2gHd",
      "execution_count": null,
      "outputs": []
    },
    {
      "cell_type": "markdown",
      "source": [
        "### LSTM"
      ],
      "metadata": {
        "id": "fsrFGvacjVY1"
      },
      "id": "fsrFGvacjVY1"
    },
    {
      "cell_type": "code",
      "source": [
        "from sklearn.model_selection import train_test_split\n",
        "X_train, X_test, y_train, y_test = train_test_split(X, y, shuffle=True, random_state = 87, test_size = 0.2, stratify=y)\n",
        "X_train.shape, X_test.shape, y_train.shape, y_test.shape"
      ],
      "metadata": {
        "colab": {
          "base_uri": "https://localhost:8080/"
        },
        "id": "kFbmXjNw3Ctx",
        "outputId": "8a3ac9b6-2604-4b76-f5c8-73735970e492"
      },
      "id": "kFbmXjNw3Ctx",
      "execution_count": 153,
      "outputs": [
        {
          "output_type": "execute_result",
          "data": {
            "text/plain": [
              "((239, 4), (60, 4), (239,), (60,))"
            ]
          },
          "metadata": {},
          "execution_count": 153
        }
      ]
    },
    {
      "cell_type": "code",
      "source": [
        "X_train, X_val, y_train, y_val = train_test_split(X_train, y_train, shuffle=True, random_state=87, test_size=0.1)\n",
        "X_train.shape, X_val.shape, y_train.shape, y_val.shape"
      ],
      "metadata": {
        "colab": {
          "base_uri": "https://localhost:8080/"
        },
        "id": "IoCp6fKz3C2v",
        "outputId": "49ecf7c7-6fd7-4af6-811a-8ce4e480c6aa"
      },
      "id": "IoCp6fKz3C2v",
      "execution_count": 154,
      "outputs": [
        {
          "output_type": "execute_result",
          "data": {
            "text/plain": [
              "((215, 4), (24, 4), (215,), (24,))"
            ]
          },
          "metadata": {},
          "execution_count": 154
        }
      ]
    },
    {
      "cell_type": "code",
      "source": [
        "X_train = np.float32(X_train)\n",
        "X_val = np.float32(X_val)\n",
        "X_test = np.float32(X_test)\n",
        "y_train = np.float32(y_train)\n",
        "y_val = np.float32(y_val)\n",
        "y_test = np.float32(y_test)"
      ],
      "metadata": {
        "id": "kG2qMbkp3DBr"
      },
      "id": "kG2qMbkp3DBr",
      "execution_count": 155,
      "outputs": []
    },
    {
      "cell_type": "code",
      "source": [
        "from keras.layers import LSTM\n",
        "model = keras.models.Sequential()\n",
        "model.add(keras.layers.LSTM(100, return_sequences=True, input_shape=(4,1)))   # define input\n",
        "model.add(keras.layers.LSTM(100))\n",
        "model.add(keras.layers.Dense(1, activation='sigmoid', name='affine'))\n",
        "model.summary()"
      ],
      "metadata": {
        "colab": {
          "base_uri": "https://localhost:8080/"
        },
        "id": "aGF6aP1c6Bev",
        "outputId": "0f329f90-7af4-4021-f06b-4ce2cc3a7c4c"
      },
      "id": "aGF6aP1c6Bev",
      "execution_count": 156,
      "outputs": [
        {
          "output_type": "stream",
          "name": "stdout",
          "text": [
            "Model: \"sequential_14\"\n",
            "_________________________________________________________________\n",
            " Layer (type)                Output Shape              Param #   \n",
            "=================================================================\n",
            " lstm_2 (LSTM)               (None, 4, 100)            40800     \n",
            "                                                                 \n",
            " lstm_3 (LSTM)               (None, 100)               80400     \n",
            "                                                                 \n",
            " affine (Dense)              (None, 1)                 101       \n",
            "                                                                 \n",
            "=================================================================\n",
            "Total params: 121,301\n",
            "Trainable params: 121,301\n",
            "Non-trainable params: 0\n",
            "_________________________________________________________________\n"
          ]
        }
      ]
    },
    {
      "cell_type": "code",
      "source": [
        "optimizer = keras.optimizers.Adam(lr= 0.001)\n",
        "model.compile(optimizer=optimizer, loss='binary_crossentropy', metrics=['accuracy'])\n",
        "num_epochs = 20\n",
        "history = model.fit(X_train, y_train, epochs = num_epochs, validation_data=(X_val, y_val), batch_size=100)\n",
        "history"
      ],
      "metadata": {
        "colab": {
          "base_uri": "https://localhost:8080/"
        },
        "id": "Qzj1PrindjF3",
        "outputId": "523666a2-a78c-42f2-fc4c-4de6d3c922b0"
      },
      "id": "Qzj1PrindjF3",
      "execution_count": 157,
      "outputs": [
        {
          "output_type": "stream",
          "name": "stderr",
          "text": [
            "/usr/local/lib/python3.7/dist-packages/keras/optimizer_v2/adam.py:105: UserWarning: The `lr` argument is deprecated, use `learning_rate` instead.\n",
            "  super(Adam, self).__init__(name, **kwargs)\n"
          ]
        },
        {
          "output_type": "stream",
          "name": "stdout",
          "text": [
            "Epoch 1/20\n",
            "3/3 [==============================] - 4s 418ms/step - loss: 0.6298 - accuracy: 0.6744 - val_loss: 0.6013 - val_accuracy: 0.7083\n",
            "Epoch 2/20\n",
            "3/3 [==============================] - 0s 22ms/step - loss: 0.6323 - accuracy: 0.6744 - val_loss: 0.6044 - val_accuracy: 0.7083\n",
            "Epoch 3/20\n",
            "3/3 [==============================] - 0s 22ms/step - loss: 0.6306 - accuracy: 0.6744 - val_loss: 0.5957 - val_accuracy: 0.7083\n",
            "Epoch 4/20\n",
            "3/3 [==============================] - 0s 23ms/step - loss: 0.6264 - accuracy: 0.6744 - val_loss: 0.5931 - val_accuracy: 0.7083\n",
            "Epoch 5/20\n",
            "3/3 [==============================] - 0s 22ms/step - loss: 0.6252 - accuracy: 0.6744 - val_loss: 0.5902 - val_accuracy: 0.7083\n",
            "Epoch 6/20\n",
            "3/3 [==============================] - 0s 22ms/step - loss: 0.6187 - accuracy: 0.6744 - val_loss: 0.5924 - val_accuracy: 0.7083\n",
            "Epoch 7/20\n",
            "3/3 [==============================] - 0s 22ms/step - loss: 0.6166 - accuracy: 0.6744 - val_loss: 0.5942 - val_accuracy: 0.7083\n",
            "Epoch 8/20\n",
            "3/3 [==============================] - 0s 23ms/step - loss: 0.6197 - accuracy: 0.6744 - val_loss: 0.5893 - val_accuracy: 0.7083\n",
            "Epoch 9/20\n",
            "3/3 [==============================] - 0s 23ms/step - loss: 0.6106 - accuracy: 0.6744 - val_loss: 0.5723 - val_accuracy: 0.7083\n",
            "Epoch 10/20\n",
            "3/3 [==============================] - 0s 24ms/step - loss: 0.6067 - accuracy: 0.6744 - val_loss: 0.5674 - val_accuracy: 0.7083\n",
            "Epoch 11/20\n",
            "3/3 [==============================] - 0s 23ms/step - loss: 0.6088 - accuracy: 0.6744 - val_loss: 0.5586 - val_accuracy: 0.7083\n",
            "Epoch 12/20\n",
            "3/3 [==============================] - 0s 23ms/step - loss: 0.5938 - accuracy: 0.6791 - val_loss: 0.5556 - val_accuracy: 0.7083\n",
            "Epoch 13/20\n",
            "3/3 [==============================] - 0s 24ms/step - loss: 0.5912 - accuracy: 0.7302 - val_loss: 0.5569 - val_accuracy: 0.8333\n",
            "Epoch 14/20\n",
            "3/3 [==============================] - 0s 23ms/step - loss: 0.5891 - accuracy: 0.7302 - val_loss: 0.5359 - val_accuracy: 0.7917\n",
            "Epoch 15/20\n",
            "3/3 [==============================] - 0s 23ms/step - loss: 0.5734 - accuracy: 0.7302 - val_loss: 0.5126 - val_accuracy: 0.7500\n",
            "Epoch 16/20\n",
            "3/3 [==============================] - 0s 22ms/step - loss: 0.5637 - accuracy: 0.7302 - val_loss: 0.4965 - val_accuracy: 0.7500\n",
            "Epoch 17/20\n",
            "3/3 [==============================] - 0s 23ms/step - loss: 0.5527 - accuracy: 0.7349 - val_loss: 0.4821 - val_accuracy: 0.8333\n",
            "Epoch 18/20\n",
            "3/3 [==============================] - 0s 24ms/step - loss: 0.5472 - accuracy: 0.7209 - val_loss: 0.4759 - val_accuracy: 0.7917\n",
            "Epoch 19/20\n",
            "3/3 [==============================] - 0s 24ms/step - loss: 0.5433 - accuracy: 0.7349 - val_loss: 0.4640 - val_accuracy: 0.8333\n",
            "Epoch 20/20\n",
            "3/3 [==============================] - 0s 23ms/step - loss: 0.5430 - accuracy: 0.7302 - val_loss: 0.4643 - val_accuracy: 0.7917\n"
          ]
        },
        {
          "output_type": "execute_result",
          "data": {
            "text/plain": [
              "<keras.callbacks.History at 0x7f743a84a610>"
            ]
          },
          "metadata": {},
          "execution_count": 157
        }
      ]
    },
    {
      "cell_type": "code",
      "source": [
        "epochs = range(1, num_epochs+1)\n",
        "train_loss = history.history['loss']\n",
        "dev_loss = history.history['val_loss']\n",
        "plt.plot(epochs, train_loss, 'purple',label='train')\n",
        "plt.plot(epochs, dev_loss, 'grey', label='dev')\n",
        "plt.legend()\n",
        "plt.xlabel('Epochs')\n",
        "plt.ylabel('Binary Crossentropy')\n",
        "plt.title('Loss Curve');"
      ],
      "metadata": {
        "colab": {
          "base_uri": "https://localhost:8080/",
          "height": 295
        },
        "id": "3FN-eSHifEbm",
        "outputId": "585dc870-7abb-44a0-8318-09c8f0a1dff0"
      },
      "id": "3FN-eSHifEbm",
      "execution_count": 158,
      "outputs": [
        {
          "output_type": "display_data",
          "data": {
            "image/png": "[encoded data removed]",
            "text/plain": [
              "<Figure size 432x288 with 1 Axes>"
            ]
          },
          "metadata": {
            "needs_background": "light"
          }
        }
      ]
    },
    {
      "cell_type": "code",
      "source": [
        "epochs = range(1, num_epochs+1)\n",
        "train_acc = history.history['accuracy']\n",
        "dev_acc = history.history['val_accuracy']\n",
        "plt.plot(epochs, train_loss, 'purple',label='train')\n",
        "plt.plot(epochs, dev_loss, 'grey', label='dev')\n",
        "plt.legend()\n",
        "plt.xlabel('Epochs')\n",
        "plt.ylabel('Accuracy')\n",
        "plt.title('Accuracy Curve');"
      ],
      "metadata": {
        "colab": {
          "base_uri": "https://localhost:8080/",
          "height": 295
        },
        "id": "yceWq4VyiJaG",
        "outputId": "82796988-13e3-4e33-ab55-44489525b307"
      },
      "id": "yceWq4VyiJaG",
      "execution_count": 159,
      "outputs": [
        {
          "output_type": "display_data",
          "data": {
            "image/png": "[encoded data removed]",
            "text/plain": [
              "<Figure size 432x288 with 1 Axes>"
            ]
          },
          "metadata": {
            "needs_background": "light"
          }
        }
      ]
    },
    {
      "cell_type": "code",
      "source": [
        "y_pred = model.predict(X_test)\n",
        "print(y_pred.shape)\n",
        "y_pred[:5]"
      ],
      "metadata": {
        "colab": {
          "base_uri": "https://localhost:8080/"
        },
        "id": "LgbiwP693ka9",
        "outputId": "2be2b431-be7c-488f-d8af-088e8462df98"
      },
      "id": "LgbiwP693ka9",
      "execution_count": 162,
      "outputs": [
        {
          "output_type": "stream",
          "name": "stdout",
          "text": [
            "(60, 1)\n"
          ]
        },
        {
          "output_type": "execute_result",
          "data": {
            "text/plain": [
              "array([[0.09254882],\n",
              "       [0.53380466],\n",
              "       [0.08700016],\n",
              "       [0.08948568],\n",
              "       [0.2618164 ]], dtype=float32)"
            ]
          },
          "metadata": {},
          "execution_count": 162
        }
      ]
    },
    {
      "cell_type": "code",
      "source": [
        "threshold = 0.5\n",
        "y_pred = [int(item>threshold) for  item in y_pred]"
      ],
      "metadata": {
        "id": "eJYYPLVB3kR2"
      },
      "id": "eJYYPLVB3kR2",
      "execution_count": 163,
      "outputs": []
    },
    {
      "cell_type": "code",
      "source": [
        "from sklearn.metrics import accuracy_score, f1_score, classification_report\n",
        "print(classification_report(y_pred, y_test))"
      ],
      "metadata": {
        "colab": {
          "base_uri": "https://localhost:8080/"
        },
        "id": "b1RgPDsi3kgA",
        "outputId": "8cfecfcd-670d-4d0d-9742-1c5fc69535a6"
      },
      "id": "b1RgPDsi3kgA",
      "execution_count": 166,
      "outputs": [
        {
          "output_type": "stream",
          "name": "stdout",
          "text": [
            "              precision    recall  f1-score   support\n",
            "\n",
            "           0       0.93      0.75      0.83        51\n",
            "           1       0.32      0.67      0.43         9\n",
            "\n",
            "    accuracy                           0.73        60\n",
            "   macro avg       0.62      0.71      0.63        60\n",
            "weighted avg       0.84      0.73      0.77        60\n",
            "\n"
          ]
        }
      ]
    },
    {
      "cell_type": "markdown",
      "source": [
        "with more layers of LSTM"
      ],
      "metadata": {
        "id": "BxAmopKn42yM"
      },
      "id": "BxAmopKn42yM"
    },
    {
      "cell_type": "code",
      "source": [
        "from keras.layers import LSTM\n",
        "model = keras.models.Sequential()\n",
        "model.add(keras.layers.LSTM(100, return_sequences=True, input_shape=(4,1)))\n",
        "model.add(keras.layers.LSTM(100, return_sequences=True))\n",
        "model.add(keras.layers.LSTM(100, return_sequences=True))\n",
        "model.add(keras.layers.LSTM(100, return_sequences=True))\n",
        "model.add(keras.layers.LSTM(100))\n",
        "model.add(keras.layers.Dense(1, activation='sigmoid', name='affine'))\n",
        "model.summary()"
      ],
      "metadata": {
        "colab": {
          "base_uri": "https://localhost:8080/"
        },
        "id": "G_UDBYmS9GK_",
        "outputId": "3a34fb7a-c874-4bb8-aae9-fb2af4cfc6cf"
      },
      "id": "G_UDBYmS9GK_",
      "execution_count": 167,
      "outputs": [
        {
          "output_type": "stream",
          "name": "stdout",
          "text": [
            "Model: \"sequential_15\"\n",
            "_________________________________________________________________\n",
            " Layer (type)                Output Shape              Param #   \n",
            "=================================================================\n",
            " lstm_4 (LSTM)               (None, 4, 100)            40800     \n",
            "                                                                 \n",
            " lstm_5 (LSTM)               (None, 4, 100)            80400     \n",
            "                                                                 \n",
            " lstm_6 (LSTM)               (None, 4, 100)            80400     \n",
            "                                                                 \n",
            " lstm_7 (LSTM)               (None, 4, 100)            80400     \n",
            "                                                                 \n",
            " lstm_8 (LSTM)               (None, 100)               80400     \n",
            "                                                                 \n",
            " affine (Dense)              (None, 1)                 101       \n",
            "                                                                 \n",
            "=================================================================\n",
            "Total params: 362,501\n",
            "Trainable params: 362,501\n",
            "Non-trainable params: 0\n",
            "_________________________________________________________________\n"
          ]
        }
      ]
    },
    {
      "cell_type": "code",
      "source": [
        "optimizer = keras.optimizers.Adam(lr= 0.001)\n",
        "model.compile(optimizer=optimizer, loss='binary_crossentropy', metrics=['accuracy'])\n",
        "num_epochs = 20\n",
        "history = model.fit(X_train, y_train, epochs = num_epochs, validation_data=(X_val, y_val), batch_size=100)\n",
        "history"
      ],
      "metadata": {
        "colab": {
          "base_uri": "https://localhost:8080/"
        },
        "id": "_AlVdPy0gAzJ",
        "outputId": "f79fe6dd-606b-43d5-f57b-8b1deab4d4bd"
      },
      "id": "_AlVdPy0gAzJ",
      "execution_count": 168,
      "outputs": [
        {
          "output_type": "stream",
          "name": "stderr",
          "text": [
            "/usr/local/lib/python3.7/dist-packages/keras/optimizer_v2/adam.py:105: UserWarning: The `lr` argument is deprecated, use `learning_rate` instead.\n",
            "  super(Adam, self).__init__(name, **kwargs)\n"
          ]
        },
        {
          "output_type": "stream",
          "name": "stdout",
          "text": [
            "Epoch 1/20\n",
            "3/3 [==============================] - 10s 961ms/step - loss: 0.6900 - accuracy: 0.5535 - val_loss: 0.6738 - val_accuracy: 0.7083\n",
            "Epoch 2/20\n",
            "3/3 [==============================] - 0s 46ms/step - loss: 0.6719 - accuracy: 0.6744 - val_loss: 0.6386 - val_accuracy: 0.7083\n",
            "Epoch 3/20\n",
            "3/3 [==============================] - 0s 49ms/step - loss: 0.6484 - accuracy: 0.6744 - val_loss: 0.6060 - val_accuracy: 0.7083\n",
            "Epoch 4/20\n",
            "3/3 [==============================] - 0s 48ms/step - loss: 0.6371 - accuracy: 0.6744 - val_loss: 0.6075 - val_accuracy: 0.7083\n",
            "Epoch 5/20\n",
            "3/3 [==============================] - 0s 47ms/step - loss: 0.6405 - accuracy: 0.6744 - val_loss: 0.6040 - val_accuracy: 0.7083\n",
            "Epoch 6/20\n",
            "3/3 [==============================] - 0s 46ms/step - loss: 0.6307 - accuracy: 0.6744 - val_loss: 0.6116 - val_accuracy: 0.7083\n",
            "Epoch 7/20\n",
            "3/3 [==============================] - 0s 48ms/step - loss: 0.6321 - accuracy: 0.6744 - val_loss: 0.6184 - val_accuracy: 0.7083\n",
            "Epoch 8/20\n",
            "3/3 [==============================] - 0s 50ms/step - loss: 0.6375 - accuracy: 0.6744 - val_loss: 0.6211 - val_accuracy: 0.7083\n",
            "Epoch 9/20\n",
            "3/3 [==============================] - 0s 47ms/step - loss: 0.6367 - accuracy: 0.6744 - val_loss: 0.6150 - val_accuracy: 0.7083\n",
            "Epoch 10/20\n",
            "3/3 [==============================] - 0s 45ms/step - loss: 0.6334 - accuracy: 0.6744 - val_loss: 0.6066 - val_accuracy: 0.7083\n",
            "Epoch 11/20\n",
            "3/3 [==============================] - 0s 46ms/step - loss: 0.6318 - accuracy: 0.6744 - val_loss: 0.6025 - val_accuracy: 0.7083\n",
            "Epoch 12/20\n",
            "3/3 [==============================] - 0s 43ms/step - loss: 0.6300 - accuracy: 0.6744 - val_loss: 0.6030 - val_accuracy: 0.7083\n",
            "Epoch 13/20\n",
            "3/3 [==============================] - 0s 47ms/step - loss: 0.6292 - accuracy: 0.6744 - val_loss: 0.6042 - val_accuracy: 0.7083\n",
            "Epoch 14/20\n",
            "3/3 [==============================] - 0s 43ms/step - loss: 0.6289 - accuracy: 0.6744 - val_loss: 0.6060 - val_accuracy: 0.7083\n",
            "Epoch 15/20\n",
            "3/3 [==============================] - 0s 50ms/step - loss: 0.6284 - accuracy: 0.6744 - val_loss: 0.6070 - val_accuracy: 0.7083\n",
            "Epoch 16/20\n",
            "3/3 [==============================] - 0s 44ms/step - loss: 0.6286 - accuracy: 0.6744 - val_loss: 0.6047 - val_accuracy: 0.7083\n",
            "Epoch 17/20\n",
            "3/3 [==============================] - 0s 45ms/step - loss: 0.6269 - accuracy: 0.6744 - val_loss: 0.6028 - val_accuracy: 0.7083\n",
            "Epoch 18/20\n",
            "3/3 [==============================] - 0s 44ms/step - loss: 0.6250 - accuracy: 0.6744 - val_loss: 0.5976 - val_accuracy: 0.7083\n",
            "Epoch 19/20\n",
            "3/3 [==============================] - 0s 43ms/step - loss: 0.6211 - accuracy: 0.6744 - val_loss: 0.5884 - val_accuracy: 0.7083\n",
            "Epoch 20/20\n",
            "3/3 [==============================] - 0s 43ms/step - loss: 0.6168 - accuracy: 0.6744 - val_loss: 0.5779 - val_accuracy: 0.7083\n"
          ]
        },
        {
          "output_type": "execute_result",
          "data": {
            "text/plain": [
              "<keras.callbacks.History at 0x7f73b6801e90>"
            ]
          },
          "metadata": {},
          "execution_count": 168
        }
      ]
    },
    {
      "cell_type": "code",
      "source": [
        "epochs = range(1, num_epochs+1)\n",
        "train_loss = history.history['loss']\n",
        "dev_loss = history.history['val_loss']\n",
        "plt.plot(epochs, train_loss, 'purple',label='train')\n",
        "plt.plot(epochs, dev_loss, 'grey', label='dev')\n",
        "plt.legend()\n",
        "plt.xlabel('Epochs')\n",
        "plt.ylabel('Binary Crossentropy')\n",
        "plt.title('Loss Curve');"
      ],
      "metadata": {
        "colab": {
          "base_uri": "https://localhost:8080/",
          "height": 295
        },
        "id": "Jjk90gtOf9_k",
        "outputId": "15731c53-a5e1-439a-e10e-69fc015ce8ca"
      },
      "id": "Jjk90gtOf9_k",
      "execution_count": 169,
      "outputs": [
        {
          "output_type": "display_data",
          "data": {
            "image/png": "[encoded data removed]",
            "text/plain": [
              "<Figure size 432x288 with 1 Axes>"
            ]
          },
          "metadata": {
            "needs_background": "light"
          }
        }
      ]
    },
    {
      "cell_type": "code",
      "source": [
        "epochs = range(1, num_epochs+1)\n",
        "train_acc = history.history['accuracy']\n",
        "dev_acc = history.history['val_accuracy']\n",
        "plt.plot(epochs, train_loss, 'purple',label='train')\n",
        "plt.plot(epochs, dev_loss, 'grey', label='dev')\n",
        "plt.legend()\n",
        "plt.xlabel('Epochs')\n",
        "plt.ylabel('Accuracy')\n",
        "plt.title('Accuracy Curve');"
      ],
      "metadata": {
        "colab": {
          "base_uri": "https://localhost:8080/",
          "height": 295
        },
        "id": "V5xenLuBhYVc",
        "outputId": "7b435549-0e94-495d-c5a8-c07ba24da715"
      },
      "id": "V5xenLuBhYVc",
      "execution_count": 170,
      "outputs": [
        {
          "output_type": "display_data",
          "data": {
            "image/png": "[encoded data removed]",
            "text/plain": [
              "<Figure size 432x288 with 1 Axes>"
            ]
          },
          "metadata": {
            "needs_background": "light"
          }
        }
      ]
    },
    {
      "cell_type": "code",
      "source": [
        "y_pred = model.predict(X_test)\n",
        "print(y_pred.shape)\n",
        "y_pred[:5]"
      ],
      "metadata": {
        "colab": {
          "base_uri": "https://localhost:8080/"
        },
        "id": "qj56qyMYkLil",
        "outputId": "a10432c5-4a92-4f8f-e147-0b973e5ba759"
      },
      "id": "qj56qyMYkLil",
      "execution_count": 171,
      "outputs": [
        {
          "output_type": "stream",
          "name": "stdout",
          "text": [
            "(60, 1)\n"
          ]
        },
        {
          "output_type": "execute_result",
          "data": {
            "text/plain": [
              "array([[0.269867  ],\n",
              "       [0.33741874],\n",
              "       [0.26878378],\n",
              "       [0.270682  ],\n",
              "       [0.3124679 ]], dtype=float32)"
            ]
          },
          "metadata": {},
          "execution_count": 171
        }
      ]
    },
    {
      "cell_type": "code",
      "source": [
        "threshold = 0.5\n",
        "y_pred = [int(item>threshold) for  item in y_pred]"
      ],
      "metadata": {
        "id": "JYMaeQjH5GT2"
      },
      "id": "JYMaeQjH5GT2",
      "execution_count": 172,
      "outputs": []
    },
    {
      "cell_type": "code",
      "source": [
        "from sklearn.metrics import classification_report"
      ],
      "metadata": {
        "id": "r7-tMaJv5GX6"
      },
      "id": "r7-tMaJv5GX6",
      "execution_count": 173,
      "outputs": []
    },
    {
      "cell_type": "code",
      "source": [
        "print(classification_report(y_test, y_pred))"
      ],
      "metadata": {
        "colab": {
          "base_uri": "https://localhost:8080/"
        },
        "id": "q6rj1mZk5Oi1",
        "outputId": "8311ed43-0203-497c-9043-40ac6fd9f4fb"
      },
      "id": "q6rj1mZk5Oi1",
      "execution_count": 176,
      "outputs": [
        {
          "output_type": "stream",
          "name": "stdout",
          "text": [
            "              precision    recall  f1-score   support\n",
            "\n",
            "         0.0       0.68      1.00      0.81        41\n",
            "         1.0       0.00      0.00      0.00        19\n",
            "\n",
            "    accuracy                           0.68        60\n",
            "   macro avg       0.34      0.50      0.41        60\n",
            "weighted avg       0.47      0.68      0.55        60\n",
            "\n"
          ]
        },
        {
          "output_type": "stream",
          "name": "stderr",
          "text": [
            "/usr/local/lib/python3.7/dist-packages/sklearn/metrics/_classification.py:1318: UndefinedMetricWarning: Precision and F-score are ill-defined and being set to 0.0 in labels with no predicted samples. Use `zero_division` parameter to control this behavior.\n",
            "  _warn_prf(average, modifier, msg_start, len(result))\n",
            "/usr/local/lib/python3.7/dist-packages/sklearn/metrics/_classification.py:1318: UndefinedMetricWarning: Precision and F-score are ill-defined and being set to 0.0 in labels with no predicted samples. Use `zero_division` parameter to control this behavior.\n",
            "  _warn_prf(average, modifier, msg_start, len(result))\n",
            "/usr/local/lib/python3.7/dist-packages/sklearn/metrics/_classification.py:1318: UndefinedMetricWarning: Precision and F-score are ill-defined and being set to 0.0 in labels with no predicted samples. Use `zero_division` parameter to control this behavior.\n",
            "  _warn_prf(average, modifier, msg_start, len(result))\n"
          ]
        }
      ]
    },
    {
      "cell_type": "code",
      "source": [
        ""
      ],
      "metadata": {
        "id": "8UuccHGX5Sej"
      },
      "id": "8UuccHGX5Sej",
      "execution_count": null,
      "outputs": []
    }
  ],
  "metadata": {
    "kernelspec": {
      "display_name": "Python 3 (ipykernel)",
      "language": "python",
      "name": "python3"
    },
    "language_info": {
      "codemirror_mode": {
        "name": "ipython",
        "version": 3
      },
      "file_extension": ".py",
      "mimetype": "text/x-python",
      "name": "python",
      "nbconvert_exporter": "python",
      "pygments_lexer": "ipython3",
      "version": "3.8.12"
    },
    "colab": {
      "name": "Project2.ipynb",
      "provenance": [],
      "collapsed_sections": []
    }
  },
  "nbformat": 4,
  "nbformat_minor": 5
}